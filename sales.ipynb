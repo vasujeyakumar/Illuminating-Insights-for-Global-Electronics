{
 "cells": [
  {
   "cell_type": "code",
   "execution_count": 1,
   "metadata": {},
   "outputs": [],
   "source": [
    "import pandas as pd\n",
    "import mysql.connector\n",
    "from datetime import datetime"
   ]
  },
  {
   "cell_type": "code",
   "execution_count": null,
   "metadata": {},
   "outputs": [],
   "source": [
    "#read the sales csv file\n",
    "\n",
    "df = pd.read_csv(\"Sales.csv\", encoding='latin1')\n",
    "df.isna().sum()"
   ]
  },
  {
   "cell_type": "code",
   "execution_count": 29,
   "metadata": {},
   "outputs": [],
   "source": [
    "#change Dataframe\n",
    "df[\"Order Date\"] = pd.to_datetime(df[\"Order Date\"])\n",
    "df[\"Delivery Date\"]= pd.to_datetime(df[\"Delivery Date\"])\n",
    "\n",
    "#finding shipping interval\n",
    "df[\"shipping_interval\"] = (df[\"Delivery Date\"] - df[\"Order Date\"]).dt.days\n",
    "df[\"Delivery Date\"] = df[\"Delivery Date\"].fillna(df[\"Order Date\"] + pd.Timedelta(days=4))\n",
    "df[\"shipping_interval\"] = (df[\"Delivery Date\"] - df[\"Order Date\"]).dt.days"
   ]
  },
  {
   "cell_type": "code",
   "execution_count": 34,
   "metadata": {},
   "outputs": [],
   "source": [
    "#read the exchange file\n",
    "\n",
    "df1=pd.read_csv(\"exchange_rates.csv\")\n",
    "\n",
    "# change datatype\n",
    "df1[\"Date\"]=pd.to_datetime(df1[\"Date\"])\n",
    "\n",
    "#mergge the data sales and exchange file\n",
    "merged_df = pd.merge(df, df1, left_on=['Order Date', 'Currency Code'], right_on=['Date', 'Currency'], how='left')\n",
    "\n",
    "#change column name\n",
    "merged_df['USD'] = merged_df['Exchange']\n",
    "\n",
    "#drop the unwanted columns\n",
    "merged_df.drop(columns=[\"Date\",\"Currency\",\"Exchange\",\"Currency Code\"],inplace=True)\n",
    "\n"
   ]
  },
  {
   "cell_type": "code",
   "execution_count": null,
   "metadata": {},
   "outputs": [],
   "source": [
    "#read the product file\n",
    "\n",
    "df=pd.read_csv(\"products.csv\")\n",
    "\n",
    "#using regex remove the $ and type as float for calculation\n",
    "df[\"Unit Cost USD\"] = df[\"Unit Cost USD\"].replace('[\\$,]', '', regex=True)\n",
    "df[\"Unit Price USD\"] = df[\"Unit Price USD\"].replace('[\\$,]', '', regex=True)\n",
    "df[\"Unit Cost USD\"]=df[\"Unit Cost USD\"].astype(float)\n",
    "df[\"Unit Price USD\"]=df[\"Unit Price USD\"].astype(float)\n",
    "\n",
    "#after merge the the above dataframe\n",
    "merge=pd.merge(merged_df,df,left_on=['ProductKey'], right_on=[\"ProductKey\"], how='left') \n",
    "\n",
    "#drop unwantwd columns because i have the names its enough\n",
    "merge.drop(columns=[\"SubcategoryKey\",\"CategoryKey\"],inplace=True)\n",
    "\n",
    "#calculation cost & revenue\n",
    "merge[\"Cost_Price\"]=merge[\"Unit Cost USD\"]*merge[\"Quantity\"]\n",
    "merge[\"Revenue\"]=merge[\"Unit Price USD\"]*merge[\"Quantity\"]*merge[\"USD\"]\n",
    "\n",
    "#drop unwantwd columns\n",
    "merge.drop(columns=[\"Unit Price USD\",\"Unit Cost USD\",\"USD\"],inplace=True)\n",
    "\n",
    "#Profit=Selling Price−Cost Price\n",
    "merge[\"profit\"]=merge[\"Revenue\"]-merge[\"Cost_Price\"]\n",
    "\n",
    "#Percentage of Profit=( Profit/cost profit)×100\n",
    "merge[\"Profit_margin\"]=(merge[\"profit\"]/merge[\"Revenue\"])*100"
   ]
  },
  {
   "cell_type": "code",
   "execution_count": 53,
   "metadata": {},
   "outputs": [],
   "source": [
    "#store csv read\n",
    "\n",
    "sl=pd.read_csv(\"stores.csv\")\n",
    "\n",
    "#change datatype\n",
    "sl[\"Open Date\"]=pd.to_datetime(sl[\"Open Date\"])\n",
    "\n",
    "#change column name \n",
    "sl[\"store_state\"]=sl[\"State\"]\n",
    "sl[\"store_Country\"]=sl[\"Country\"]\n",
    "\n",
    "#unwanted column\n",
    "sl.drop(columns=[\"Square Meters\",\"State\",\"Country\"],inplace=True)\n",
    "\n",
    "#merge updated dataframe and store csv\n",
    "merged_df=pd.merge(merge,sl,left_on=['StoreKey'], right_on=[\"StoreKey\"], how='left')"
   ]
  },
  {
   "cell_type": "code",
   "execution_count": 56,
   "metadata": {},
   "outputs": [],
   "source": [
    "#read the customer csv\n",
    "cus=pd.read_csv(\"Customers.csv\",encoding='latin1')\n",
    "# change dataframe and column name\n",
    "cus[\"Birthday\"]=pd.to_datetime(cus[\"Birthday\"])\n",
    "cus[\"Customer_State\"]=cus[\"State\"]\n",
    "cus[\"Customer_Country\"]=cus[\"Country\"]\n",
    "cus.drop(columns=[\"State\",\"Country\",\"State Code\"],inplace=True)\n",
    "\n",
    "#merge\n",
    "merged=pd.merge(merged_df,cus,left_on=['CustomerKey'], right_on=[\"CustomerKey\"], how='left')\n",
    "\n",
    "#find age of customer till date\n",
    "\n",
    "reference_date = datetime.today()\n",
    "\n",
    "# Calculate the age\n",
    "merged['Age'] =(reference_date.year - merged['Birthday'].dt.year).astype(int)\n",
    "merged.drop(columns=[\"Birthday\"],inplace=True)"
   ]
  },
  {
   "cell_type": "code",
   "execution_count": 55,
   "metadata": {},
   "outputs": [],
   "source": [
    "#needed view for full dataframe without hide\n",
    "pd.set_option('display.max_columns', None)"
   ]
  },
  {
   "cell_type": "code",
   "execution_count": 78,
   "metadata": {},
   "outputs": [],
   "source": [
    "#rearrage column name\n",
    "ordered_columns = [\n",
    "    'Order Number', 'Line Item', 'Order Date', 'Delivery Date','shipping_interval','CustomerKey', 'Name', 'Gender', 'Age',\"Continent\",\n",
    "    'Customer_Country', 'Customer_State', 'City', 'Zip Code', 'StoreKey', 'store_Country', 'store_state', \n",
    "    'Open Date', 'Quantity', 'ProductKey', 'Product Name','Brand', 'Category', 'Subcategory', 'Color','Quantity' ,'Cost_Price', 'Revenue', \n",
    "    'profit','Profit_margin']\n",
    "\n",
    "df = merged[ordered_columns]"
   ]
  },
  {
   "cell_type": "code",
   "execution_count": null,
   "metadata": {},
   "outputs": [],
   "source": [
    "df"
   ]
  },
  {
   "cell_type": "code",
   "execution_count": 79,
   "metadata": {},
   "outputs": [],
   "source": [
    "#connect mysql database in local\n",
    "\n",
    "conn = mysql.connector.connect(\n",
    "    host=\"localhost\",\n",
    "    user=\"root\",\n",
    "    password=\"Vasu@3003\",\n",
    "    database=\"eda\"\n",
    ")\n",
    "\n",
    "cursor = conn.cursor()\n",
    "\n",
    "# Define the SQL table schema\n",
    "create_table_query = \"\"\"\n",
    "CREATE TABLE IF NOT EXISTS SALES_DATA (\n",
    "    OrderNumber INT,\n",
    "    LineItem INT,\n",
    "    OrderDate DATE,\n",
    "    DeliveryDate DATE,\n",
    "    shipping_interval INT,\n",
    "    CustomerKey INT,\n",
    "    Name VARCHAR(255),\n",
    "    Gender VARCHAR(10),\n",
    "    Age INT,\n",
    "    Continent VARCHAR(50),\n",
    "    Customer_Country VARCHAR(100),\n",
    "    Customer_State VARCHAR(100),\n",
    "    City VARCHAR(100),\n",
    "    Zip_Code VARCHAR(20),\n",
    "    StoreKey INT,\n",
    "    store_Country VARCHAR(100),\n",
    "    store_state VARCHAR(100),\n",
    "    Open_Date DATE,\n",
    "    Quantity INT,\n",
    "    ProductKey INT,\n",
    "    Product_Name VARCHAR(255),\n",
    "    Brand VARCHAR(100),\n",
    "    Category VARCHAR(100),\n",
    "    Subcategory VARCHAR(100),\n",
    "    Color VARCHAR(50), \n",
    "    Cost_Price DECIMAL(10, 2),\n",
    "    Revenue DECIMAL(10, 2),\n",
    "    profit DECIMAL(10, 2),\n",
    "    Profit_margin DECIMAL(10, 2)\n",
    ")\n",
    "\"\"\"\n",
    "cursor.execute(create_table_query)\n",
    "conn.commit()"
   ]
  },
  {
   "cell_type": "code",
   "execution_count": 80,
   "metadata": {},
   "outputs": [],
   "source": [
    "# Insert data into the table\n",
    "insert_query = \"\"\"\n",
    "INSERT INTO SALES_DATA (OrderNumber, LineItem, OrderDate, DeliveryDate, shipping_interval, CustomerKey, Name, Gender, Age, Continent,\n",
    "    Customer_Country, Customer_State, City, `Zip_Code`, StoreKey, store_Country, store_state, Open_Date, Quantity, ProductKey,\n",
    "    Product_Name, Brand, Category, Subcategory, Color, Cost_Price, Revenue, profit, Profit_margin)\n",
    "VALUES (%s, %s, %s, %s, %s, %s, %s, %s, %s, %s, %s, %s, %s, %s, %s, %s, %s, %s, %s, %s, %s, %s, %s, %s, %s, %s, %s, %s, %s)\n",
    "\"\"\"\n",
    "\n",
    "\n",
    "for index, row in df.iterrows():\n",
    "    # Ensure the row values are in the correct order\n",
    "    cursor.execute(insert_query, [row[column] for column in ordered_columns])\n",
    "\n",
    "conn.commit()\n"
   ]
  }
 ],
 "metadata": {
  "kernelspec": {
   "display_name": "Python 3",
   "language": "python",
   "name": "python3"
  },
  "language_info": {
   "codemirror_mode": {
    "name": "ipython",
    "version": 3
   },
   "file_extension": ".py",
   "mimetype": "text/x-python",
   "name": "python",
   "nbconvert_exporter": "python",
   "pygments_lexer": "ipython3",
   "version": "3.12.4"
  }
 },
 "nbformat": 4,
 "nbformat_minor": 2
}
